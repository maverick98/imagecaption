{
 "cells": [
  {
   "cell_type": "code",
   "execution_count": 17,
   "metadata": {},
   "outputs": [],
   "source": [
    "# !pip3 install -U git+https://github.com/PrithivirajDamodaran/Gramformer.git"
   ]
  },
  {
   "cell_type": "code",
   "execution_count": 19,
   "metadata": {},
   "outputs": [],
   "source": [
    "# !pip install happytransformer"
   ]
  },
  {
   "cell_type": "code",
   "execution_count": 23,
   "metadata": {},
   "outputs": [],
   "source": []
  },
  {
   "cell_type": "code",
   "execution_count": 21,
   "metadata": {},
   "outputs": [],
   "source": []
  },
  {
   "cell_type": "code",
   "execution_count": 22,
   "metadata": {},
   "outputs": [],
   "source": [
    "import pandas as pd\n",
    "metrics_df = pd.read_csv(\"captions_test_metrics.csv\")\n",
    "metrics_df = metrics_df.sort_values(\"BLEU\", ascending=False)\n",
    "images_with_highest_bleu = metrics_df[metrics_df[\"BLEU\"] >= 0.8]"
   ]
  },
  {
   "cell_type": "code",
   "execution_count": 14,
   "metadata": {},
   "outputs": [],
   "source": [
    "text = \"gec: \" + \"white dog run through the grass\""
   ]
  },
  {
   "cell_type": "code",
   "execution_count": 24,
   "metadata": {},
   "outputs": [
    {
     "name": "stderr",
     "output_type": "stream",
     "text": [
      "04/23/2023 05:16:32 - INFO - happytransformer.happy_transformer -   Using model: cpu\n"
     ]
    },
    {
     "name": "stdout",
     "output_type": "stream",
     "text": [
      "white dog run through the grass.\n"
     ]
    }
   ],
   "source": [
    "from happytransformer import HappyTextToText\n",
    "from happytransformer import TTSettings\n",
    "\n",
    "happy_tt = HappyTextToText(\"T5\",  \"prithivida/grammar_error_correcter_v1\")\n",
    "\n",
    "settings = TTSettings(do_sample=True, top_k=10, temperature=0.5,  min_length=1, max_length=100)\n",
    "\n",
    "result = happy_tt.generate_text(text, args=settings)\n",
    "print(result.text)"
   ]
  },
  {
   "cell_type": "code",
   "execution_count": 25,
   "metadata": {},
   "outputs": [
    {
     "data": {
      "text/plain": [
       "Index(['Unnamed: 0', 'index', 'filename', 'caption', 'references', 'BLEU',\n",
       "       'ROUGE1', 'ROUGEL', 'METEOR'],\n",
       "      dtype='object')"
      ]
     },
     "execution_count": 25,
     "metadata": {},
     "output_type": "execute_result"
    }
   ],
   "source": [
    "images_with_highest_bleu.columns"
   ]
  },
  {
   "cell_type": "code",
   "execution_count": 37,
   "metadata": {},
   "outputs": [
    {
     "name": "stderr",
     "output_type": "stream",
     "text": [
      "/tmp/ipykernel_174629/2126003581.py:5: SettingWithCopyWarning: \n",
      "A value is trying to be set on a copy of a slice from a DataFrame.\n",
      "Try using .loc[row_indexer,col_indexer] = value instead\n",
      "\n",
      "See the caveats in the documentation: https://pandas.pydata.org/pandas-docs/stable/user_guide/indexing.html#returning-a-view-versus-a-copy\n",
      "  images_with_highest_bleu[\"corrected_with_happyformer\"] = images_with_highest_bleu[\"caption\"].map(correct_grammar_with_happyformer)\n"
     ]
    }
   ],
   "source": [
    "def correct_grammar_with_happyformer(text_):\n",
    "    result = happy_tt.generate_text(text_, args=settings)\n",
    "    return result.text\n",
    "\n",
    "images_with_highest_bleu[\"corrected_with_happyformer\"] = images_with_highest_bleu[\"caption\"].map(correct_grammar_with_happyformer)\n",
    "# print(result.text)\n",
    "# images_with_highest_bleu[\"corrected_with_happyformer\"] = correct_grammar_with_happyformer(images_with_highest_bleu[\"caption\"])"
   ]
  },
  {
   "cell_type": "code",
   "execution_count": 39,
   "metadata": {},
   "outputs": [
    {
     "data": {
      "text/plain": [
       "Index(['Unnamed: 0', 'index', 'filename', 'caption', 'references', 'BLEU',\n",
       "       'ROUGE1', 'ROUGEL', 'METEOR', 'corrected_with_happyformer'],\n",
       "      dtype='object')"
      ]
     },
     "execution_count": 39,
     "metadata": {},
     "output_type": "execute_result"
    }
   ],
   "source": [
    "images_with_highest_bleu.columns"
   ]
  },
  {
   "cell_type": "code",
   "execution_count": 43,
   "metadata": {},
   "outputs": [],
   "source": [
    "images_with_highest_bleu[['filename', 'BLEU', \"caption\", \"corrected_with_happyformer\"]].drop_duplicates(subset='filename', keep=\"last\").to_csv(\"grammar_correction_options_comparisons.csv\")"
   ]
  },
  {
   "cell_type": "code",
   "execution_count": 44,
   "metadata": {},
   "outputs": [
    {
     "name": "stderr",
     "output_type": "stream",
     "text": [
      "/tmp/ipykernel_174629/4058347175.py:13: SettingWithCopyWarning: \n",
      "A value is trying to be set on a copy of a slice from a DataFrame.\n",
      "Try using .loc[row_indexer,col_indexer] = value instead\n",
      "\n",
      "See the caveats in the documentation: https://pandas.pydata.org/pandas-docs/stable/user_guide/indexing.html#returning-a-view-versus-a-copy\n",
      "  images_with_highest_bleu[\"corrected_with_gingerit\"] = images_with_highest_bleu[\"caption\"].map(correct_grammar_with_gingerit)\n"
     ]
    }
   ],
   "source": [
    "from gingerit.gingerit import GingerIt\n",
    "\n",
    "\n",
    "\n",
    "parser = GingerIt()\n",
    "\n",
    "\n",
    "\n",
    "\n",
    "def correct_grammar_with_gingerit(text_):\n",
    "    return parser.parse(text_)['result']\n",
    "\n",
    "images_with_highest_bleu[\"corrected_with_gingerit\"] = images_with_highest_bleu[\"caption\"].map(correct_grammar_with_gingerit)\n",
    "# print(result.text)\n",
    "# images_with_highest_bleu[\"corrected_with_happyformer\"] = correct_grammar_with_happyformer(images_with_highest_bleu[\"caption\"])"
   ]
  },
  {
   "cell_type": "code",
   "execution_count": null,
   "metadata": {},
   "outputs": [],
   "source": [
    "images_with_highest_bleu[['filename', 'BLEU', \"caption\", \"corrected_with_happyformer\", \"corrected_with_gingerit\"]].drop_duplicates(subset='filename', keep=\"last\").to_csv(\"grammar_correction_comparisons.csv\")"
   ]
  }
 ],
 "metadata": {
  "interpreter": {
   "hash": "916dbcbb3f70747c44a77c7bcd40155683ae19c65e1c03b4aa3499c5328201f1"
  },
  "kernelspec": {
   "display_name": "Python 3.8.10 64-bit",
   "language": "python",
   "name": "python3"
  },
  "language_info": {
   "codemirror_mode": {
    "name": "ipython",
    "version": 3
   },
   "file_extension": ".py",
   "mimetype": "text/x-python",
   "name": "python",
   "nbconvert_exporter": "python",
   "pygments_lexer": "ipython3",
   "version": "3.8.10"
  },
  "orig_nbformat": 4
 },
 "nbformat": 4,
 "nbformat_minor": 2
}
